{
 "cells": [
  {
   "cell_type": "code",
   "execution_count": 2,
   "id": "4cd022cc-116b-46eb-b387-c3d665cd29d3",
   "metadata": {},
   "outputs": [],
   "source": [
    "import pandas as pd\n",
    "from sklearn.preprocessing import MultiLabelBinarizer\n",
    "from sklearn.metrics.pairwise import cosine_similarity\n",
    "import ast"
   ]
  },
  {
   "cell_type": "code",
   "execution_count": 6,
   "id": "288b0ab6-40d0-406f-8051-3d252eb0f51b",
   "metadata": {},
   "outputs": [],
   "source": [
    "# Load the dataset\n",
    "movies = pd.read_csv(\"data/tmdb_5000_movies.csv\")\n",
    "credits = pd.read_csv(\"data/tmdb_5000_credits.csv\")"
   ]
  },
  {
   "cell_type": "code",
   "execution_count": 8,
   "id": "cd1ac6ab-2ca5-4718-8592-357400b8cfbc",
   "metadata": {},
   "outputs": [],
   "source": [
    "# Clean genres\n",
    "\n",
    "def parse_genres(s):\n",
    "    try:\n",
    "        return [d['name'] for d in ast.literal_eval(s)]\n",
    "    except:\n",
    "        return []\n",
    "\n",
    "movies['genres_list'] = movies['genres'].apply(parse_genres)"
   ]
  },
  {
   "cell_type": "code",
   "execution_count": 10,
   "id": "b3ed5c01-b695-4f4e-a6fc-1ef7405a1112",
   "metadata": {},
   "outputs": [
    {
     "name": "stdout",
     "output_type": "stream",
     "text": [
      "\n",
      "Top 10 Rated Movies:\n",
      "1. Stiff Upper Lips (Rating: 10.0)\n",
      "2. Me You and Five Bucks (Rating: 10.0)\n",
      "3. Dancer, Texas Pop. 81 (Rating: 10.0)\n",
      "4. Little Big Top (Rating: 10.0)\n",
      "5. Sardaarji (Rating: 9.5)\n",
      "6. One Man's Hero (Rating: 9.3)\n",
      "7. There Goes My Baby (Rating: 8.5)\n",
      "8. The Shawshank Redemption (Rating: 8.5)\n",
      "9. The Prisoner of Zenda (Rating: 8.4)\n",
      "10. The Godfather (Rating: 8.4)\n"
     ]
    }
   ],
   "source": [
    "#  Popularity-based recommendation\n",
    "\n",
    "print(\"\\nTop 10 Rated Movies:\")\n",
    "top_movies = movies.sort_values('vote_average', ascending=False)[['title','vote_average']].head(10)\n",
    "for i, row in enumerate(top_movies.itertuples(), 1):\n",
    "    print(f\"{i}. {row.title} (Rating: {row.vote_average})\")"
   ]
  },
  {
   "cell_type": "code",
   "execution_count": 12,
   "id": "a6e65b6b-0317-4f4e-acd0-1037288d3dc1",
   "metadata": {},
   "outputs": [
    {
     "name": "stdout",
     "output_type": "stream",
     "text": [
      "\n",
      "Here are some movies you can choose from:\n",
      "1. I Spy\n",
      "2. Split Second\n",
      "3. Gossip\n",
      "4. Vicky Cristina Barcelona\n",
      "5. Harry Potter and the Half-Blood Prince\n",
      "6. AVP: Alien vs. Predator\n",
      "7. The Contender\n",
      "8. Meet the Parents\n",
      "9. Away We Go\n",
      "10. Sleep Dealer\n",
      "11. In Her Line of Fire\n",
      "12. Beyond the Lights\n",
      "13. The Front Page\n",
      "14. Taxi Driver\n",
      "15. Knight and Day\n",
      "16. End of Days\n",
      "17. Code 46\n",
      "18. Double Take\n",
      "19. Tidal Wave\n",
      "20. I Heart Huckabees\n"
     ]
    },
    {
     "name": "stdin",
     "output_type": "stream",
     "text": [
      "\n",
      "Enter the movie name or number:  1\n"
     ]
    },
    {
     "name": "stdout",
     "output_type": "stream",
     "text": [
      "\n",
      "Movies similar to 'I Spy':\n",
      "1. Hollywood Homicide\n",
      "2. Bad Company\n",
      "3. I Spy\n",
      "4. Without a Paddle\n",
      "5. The Big Hit\n"
     ]
    }
   ],
   "source": [
    "#  Similarity-based recommendation\n",
    "\n",
    "mlb = MultiLabelBinarizer()\n",
    "genre_matrix = mlb.fit_transform(movies['genres_list'])\n",
    "sim = cosine_similarity(genre_matrix)\n",
    "\n",
    "def recommend_by_genre(title, top_n=5):\n",
    "    # Case-insensitive match\n",
    "    lower_titles = movies['title'].str.lower()\n",
    "    title_lower = title.lower()\n",
    "    \n",
    "    if title_lower not in lower_titles.values:\n",
    "        return [\"Movie not found!\"]\n",
    "    \n",
    "    idx = lower_titles[lower_titles == title_lower].index[0]\n",
    "    scores = list(enumerate(sim[idx]))\n",
    "    scores = sorted(scores, key=lambda x: x[1], reverse=True)\n",
    "    rec_idxs = [i for i,_ in scores[1:top_n+1]]\n",
    "    return movies['title'].iloc[rec_idxs].tolist()\n",
    "\n",
    "\n",
    "#  Show some movies for user to pick from\n",
    "\n",
    "print(\"\\nHere are some movies you can choose from:\")\n",
    "sample_movies = movies['title'].sample(20, random_state=42).tolist()\n",
    "for i, m in enumerate(sample_movies, 1):\n",
    "    print(f\"{i}. {m}\")\n",
    "\n",
    "#  Take user input (number or name, case-insensitive)\n",
    "\n",
    "choice = input(\"\\nEnter the movie name or number: \")\n",
    "\n",
    "if choice.isdigit():\n",
    "    movie_name = sample_movies[int(choice)-1]\n",
    "else:\n",
    "    movie_name = choice.strip()\n",
    "\n",
    "\n",
    "#  Show recommendations\n",
    "\n",
    "recommendations = recommend_by_genre(movie_name, top_n=5)\n",
    "print(f\"\\nMovies similar to '{movie_name}':\")\n",
    "for i, m in enumerate(recommendations, 1):\n",
    "    print(f\"{i}. {m}\")"
   ]
  },
  {
   "cell_type": "code",
   "execution_count": null,
   "id": "a7efb575-c302-4c98-b701-1a5f6d176af1",
   "metadata": {},
   "outputs": [],
   "source": []
  }
 ],
 "metadata": {
  "kernelspec": {
   "display_name": "Python 3 (ipykernel)",
   "language": "python",
   "name": "python3"
  },
  "language_info": {
   "codemirror_mode": {
    "name": "ipython",
    "version": 3
   },
   "file_extension": ".py",
   "mimetype": "text/x-python",
   "name": "python",
   "nbconvert_exporter": "python",
   "pygments_lexer": "ipython3",
   "version": "3.12.4"
  }
 },
 "nbformat": 4,
 "nbformat_minor": 5
}
